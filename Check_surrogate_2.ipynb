{
 "cells": [
  {
   "cell_type": "code",
   "execution_count": 2,
   "metadata": {},
   "outputs": [],
   "source": [
    "# Import the basic libraries\n",
    "import os\n",
    "import numpy as np\n",
    "import csv\n",
    "import pandas as pd\n",
    "import multiprocessing as mp\n",
    "import shutil\n",
    "import time\n",
    "from typing import List, Callable, Iterable\n",
    "import warnings\n",
    "import sys\n",
    "\n",
    "# Import PYCMA-ES (from Nikolaus Hansen)\n",
    "import cma\n",
    "\n",
    "# Import the Modular CMA-ES library (Jacob de Nobel, Diederick Vermetten)\n",
    "from modcma import c_maes, ModularCMAES, Parameters\n",
    "\n",
    "\n",
    "# IOH\n",
    "import ioh\n",
    "\n",
    "# Specific Scikit Learn Libraries\n",
    "#from sklearn.model_selection import train_test_split\n",
    "#from sklearn.metrics import r2_score\n",
    "#from sklearn.svm import SVR # Support Vector Regressor\n",
    "from sklearn.ensemble import RandomForestRegressor # Random Forest Regressor\n",
    "from sklearn.model_selection import GridSearchCV\n",
    "#from sklearn.pipeline import Pipeline\n",
    "\n",
    "# SKOPTS library to load objects from Scikit-Learn\n",
    "#from skops.card import Card\n",
    "#from skops.card import parse_modelcard\n",
    "from skops.io import load #, dump,  get_untrusted_types\n",
    "\n",
    "\n",
    "##### -----------------------------------------------------------\n",
    "##### ------------------CONSTANTS--------------------------------\n",
    "##### -----------------------------------------------------------\n",
    "\n",
    "# FILE MANAGEMENT\n",
    "SURROGATE_PATH:str = \"Surrogate_Folder\"\n",
    "RESULTS_PATH:str = \"Results\"\n",
    "\n",
    "\n",
    "# THIS IS TO SET THE LAMBDA TO ADJUST THE RESTRICTION ON THE PROBLEM\n",
    "#LAMDA:float = 3.981071705534969283e+02\n",
    "LAMDA:float = 9.05e+03\n",
    "INTRUSION_PRIME:float = 60.00\n",
    "\n",
    "BUDGET:int = 1000 # Manage a budget of simulations\n",
    "DIMENSIONS:list = [1,3,5]\n",
    "SIGMA_0:float = 2.5/2\n",
    "N_RUNS:int =  10 # Number of runs\n",
    "MAX_RESTARTS_DEFAULT:int = 10\n",
    "\n",
    "# The kind of objective to be evaluated\n",
    "DEFAULT_OBJECTIVE_TYPE:int = 2\n",
    "\n",
    "# LIBRARY TO USE\n",
    "# If set to '1' then use Niko Hansen's Library\n",
    "# If '2', then use Modular CMA-ES library (Jacob de Nobel, Diederick Vermetten)\n",
    "CMA_ES_HAND:int = 2\n",
    "\n",
    "# Change this to define the case to evaluate the population size\n",
    "POP_CASE:int = 0\n",
    "\n",
    "# NOT CHANGING (Seed)\n",
    "SEED:int = 42\n",
    "\n",
    "# LOAD REGRESSORS MODE\n",
    "# Set to 1 to use full surrogate or 2 to just subspace surrogate\n",
    "DIMENSIONALITY_CASE:int = 1"
   ]
  },
  {
   "cell_type": "code",
   "execution_count": 3,
   "metadata": {},
   "outputs": [],
   "source": [
    "from test_opt_general_multi_dummy_2 import Starbox_problem\n",
    "\n",
    "ff_1 = Starbox_problem(regressor_model_intrusion= load(file=os.path.join(os.getcwd(),\n",
    "                                                         SURROGATE_PATH,\"RF_reg_dual_5D.skops\"),trusted=True),\n",
    "                        regressor_model_sea=None,n_variables=5,instance=1,\n",
    "                        is_minimisation=True,opt_dimensionality=5,lamda=2736.28,\n",
    "                        intrusion_ref=84,objective_type=2)"
   ]
  },
  {
   "cell_type": "code",
   "execution_count": 4,
   "metadata": {},
   "outputs": [],
   "source": [
    "regressor = load(file=os.path.join(os.getcwd(),SURROGATE_PATH,\"RF_reg_dual_5D.skops\"),trusted=True)"
   ]
  },
  {
   "cell_type": "code",
   "execution_count": 5,
   "metadata": {},
   "outputs": [],
   "source": [
    "tt1 = regressor.predict(np.array([-5,-5,-5,-5,-5]).reshape(1,-1))"
   ]
  },
  {
   "cell_type": "code",
   "execution_count": 6,
   "metadata": {},
   "outputs": [
    {
     "name": "stdout",
     "output_type": "stream",
     "text": [
      "intrusion =  113.48856232558165 SEA =  37316.81027638889 15200.388532202647\n"
     ]
    }
   ],
   "source": [
    "print(\"intrusion = \",tt1[0,0], \"SEA = \", tt1[0,1], tt1[0,1] - 750*(tt1[0,0]-84))"
   ]
  },
  {
   "cell_type": "code",
   "execution_count": 7,
   "metadata": {},
   "outputs": [
    {
     "data": {
      "text/plain": [
       "-43372.15304385369"
      ]
     },
     "execution_count": 7,
     "metadata": {},
     "output_type": "execute_result"
    }
   ],
   "source": [
    "tt1[0,1]-2736.28*(tt1[0,0]-84)"
   ]
  },
  {
   "cell_type": "code",
   "execution_count": 8,
   "metadata": {},
   "outputs": [],
   "source": [
    "regressor_sea:GridSearchCV= load(file=os.path.join(os.getcwd(),\n",
    "                                                        SURROGATE_PATH,\"RF_reg_sea.skops\"),trusted=True)"
   ]
  },
  {
   "cell_type": "code",
   "execution_count": 9,
   "metadata": {},
   "outputs": [],
   "source": [
    "regressor_intrusion:GridSearchCV= load(file=os.path.join(os.getcwd(),\n",
    "                                                        SURROGATE_PATH,\"RF_reg_intrusion.skops\"),trusted=True)"
   ]
  },
  {
   "cell_type": "code",
   "execution_count": 11,
   "metadata": {},
   "outputs": [],
   "source": [
    "tt2_int = regressor_intrusion.predict(np.array([-5,-5,-5,-5,-5]).reshape(1,-1))"
   ]
  },
  {
   "cell_type": "code",
   "execution_count": 12,
   "metadata": {},
   "outputs": [],
   "source": [
    "tt2_sea = regressor_sea.predict(np.array([-5,-5,-5,-5,-5]).reshape(1,-1))"
   ]
  },
  {
   "cell_type": "code",
   "execution_count": 13,
   "metadata": {},
   "outputs": [
    {
     "name": "stdout",
     "output_type": "stream",
     "text": [
      "intrusion =  [113.587784] SEA =  [37160.08787935] 15200.388532202647\n"
     ]
    }
   ],
   "source": [
    "print(\"intrusion = \",tt2_int, \"SEA = \", tt2_sea, tt1[0,1] - 750*(tt1[0,0]-84))"
   ]
  },
  {
   "cell_type": "code",
   "execution_count": null,
   "metadata": {},
   "outputs": [],
   "source": []
  }
 ],
 "metadata": {
  "kernelspec": {
   "display_name": "simpleOpt",
   "language": "python",
   "name": "python3"
  },
  "language_info": {
   "codemirror_mode": {
    "name": "ipython",
    "version": 3
   },
   "file_extension": ".py",
   "mimetype": "text/x-python",
   "name": "python",
   "nbconvert_exporter": "python",
   "pygments_lexer": "ipython3",
   "version": "3.8.18"
  }
 },
 "nbformat": 4,
 "nbformat_minor": 2
}
