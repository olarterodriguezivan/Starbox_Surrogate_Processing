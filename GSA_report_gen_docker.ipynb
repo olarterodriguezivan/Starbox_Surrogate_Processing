{
 "cells": [
  {
   "cell_type": "code",
   "execution_count": 99,
   "id": "d40cb21d-5556-46e5-bd07-ae7d1a5e3f82",
   "metadata": {},
   "outputs": [],
   "source": [
    "# Import the libraries\n",
    "import os\n",
    "import numpy as np\n",
    "import csv\n",
    "import pandas as pd\n",
    "import multiprocessing as mp\n",
    "import shutil\n",
    "import docker\n",
    "\n",
    "docker_client = docker.from_env()"
   ]
  },
  {
   "cell_type": "code",
   "execution_count": 81,
   "id": "912041d5-79fe-4a3d-92ac-b61ae5e39794",
   "metadata": {},
   "outputs": [],
   "source": [
    "# List with all the filenames to search\n",
    "FILNAMES = [\n",
    "    \"x_sobol.csv\",\n",
    "    \"x_morris.csv\",\n",
    "    \"x_lhs.csv\",\n",
    "    \"y_sobol.csv\",\n",
    "    \"y_morris.csv\",\n",
    "    \"y_lhs.csv\"\n",
    "]"
   ]
  },
  {
   "cell_type": "code",
   "execution_count": 82,
   "id": "b948bba2-3774-44cd-a7e1-4a988c378016",
   "metadata": {},
   "outputs": [],
   "source": [
    "# Set the reference intrusion\n",
    "DELTA_STAR = 60"
   ]
  },
  {
   "cell_type": "markdown",
   "id": "eedbc695-bc76-413c-acc1-bcbc66c7fb5f",
   "metadata": {},
   "source": [
    "#### Definition of the Objective Function\n",
    "$$f(\\mathbf{x} ) = \\text{SEA} (\\mathbf{x}) - \\lambda | \\delta(\\mathbf{x}) - \\delta^{\\star}  |$$"
   ]
  },
  {
   "cell_type": "code",
   "execution_count": 83,
   "id": "0fe149bc-94e7-4086-aa34-03e28e84ce96",
   "metadata": {},
   "outputs": [],
   "source": [
    "# Definition of the objective function\n",
    "f = lambda SEA,intrusion,lamda: SEA - np.multiply(lamda,np.abs(intrusion-DELTA_STAR))"
   ]
  },
  {
   "cell_type": "code",
   "execution_count": 84,
   "id": "949d93f2-9fec-431f-be8c-77a26e879725",
   "metadata": {},
   "outputs": [
    {
     "name": "stdout",
     "output_type": "stream",
     "text": [
      "/home/ivanolar/Documentos\n"
     ]
    }
   ],
   "source": [
    "# Get the root directories to the SEA and Intrusion Datasets\n",
    "print(os.getcwd())\n",
    "\n",
    "# Change the working directory\n",
    "os.chdir('/home/ivanolar/Documentos')\n",
    "\n",
    "parent_dir = os.path.dirname(os.getcwd())\n",
    "\n"
   ]
  },
  {
   "cell_type": "code",
   "execution_count": 85,
   "id": "01c595d8-54ed-49ea-b15f-7accd1bfc6a1",
   "metadata": {},
   "outputs": [
    {
     "name": "stdout",
     "output_type": "stream",
     "text": [
      "/home/ivanolar/Documentos/data-Intrusion True\n",
      "/home/ivanolar/Documentos/data-SEA True\n",
      "/home/ivanolar/Documentos/data True\n",
      "/home/ivanolar/Documentos/output True\n"
     ]
    }
   ],
   "source": [
    "# Set the intrusion and SEA storing directories\n",
    "intrusion_dir = os.path.join(os.getcwd(),\"data-Intrusion\")\n",
    "sea_dir = os.path.join(os.getcwd(),\"data-SEA\")\n",
    "\n",
    "data_dir =  os.path.join(os.getcwd(),\"data\")\n",
    "output_dir = os.path.join(os.getcwd(),\"output\")\n",
    "\n",
    "# Print all the paths to ensure are well written\n",
    "print(intrusion_dir,os.path.exists(intrusion_dir))\n",
    "print(sea_dir,os.path.exists(sea_dir))\n",
    "print(data_dir,os.path.exists(data_dir))\n",
    "print(output_dir,os.path.exists(output_dir))\n"
   ]
  },
  {
   "cell_type": "code",
   "execution_count": 86,
   "id": "84dbfa7c-df12-4f36-b7b6-727a8d85e81d",
   "metadata": {},
   "outputs": [],
   "source": [
    "# Generate an array of Numpy arrays to read\n",
    "input_data_files = []\n",
    "for ii in range(0,3):\n",
    "    curfil_1 = os.path.join(intrusion_dir ,FILNAMES[ii])\n",
    "    input_data_files.append(np.loadtxt(curfil_1))\n",
    "    \n",
    "    \n",
    "    "
   ]
  },
  {
   "cell_type": "code",
   "execution_count": 87,
   "id": "985fd65a",
   "metadata": {},
   "outputs": [],
   "source": [
    "# Generate an array of Numpy arrays to read\n",
    "intrusion_files_array = list()\n",
    "sea_files_array = list()\n",
    "for ii in range(3,6):\n",
    "    curfil_1 = os.path.join(intrusion_dir ,FILNAMES[ii])\n",
    "    curfil_2 = os.path.join(sea_dir ,FILNAMES[ii])\n",
    "    intrusion_files_array.append(np.loadtxt(curfil_1))\n",
    "    sea_files_array.append(np.loadtxt(curfil_2))\n",
    "    \n",
    "    "
   ]
  },
  {
   "cell_type": "code",
   "execution_count": 88,
   "id": "a66c9c3b-50f8-4c87-83a7-113461bb5a53",
   "metadata": {},
   "outputs": [],
   "source": [
    "# Generate and array to check how the lamda parameter \"affects the landscape\"\n",
    "num_iterations:int = 20\n",
    "lamda_array = np.logspace(1.8,2.8,num=num_iterations,endpoint=False)"
   ]
  },
  {
   "cell_type": "code",
   "execution_count": 89,
   "id": "04eac89d-7b2d-4f9e-b6ab-b3ff78e27946",
   "metadata": {},
   "outputs": [
    {
     "name": "stdout",
     "output_type": "stream",
     "text": [
      "[ 63.09573445  70.79457844  79.43282347  89.12509381 100.\n",
      " 112.20184543 125.89254118 141.25375446 158.48931925 177.827941\n",
      " 199.5262315  223.87211386 251.18864315 281.83829313 316.22776602\n",
      " 354.81338923 398.10717055 446.68359215 501.18723363 562.34132519]\n"
     ]
    }
   ],
   "source": [
    "print(lamda_array)"
   ]
  },
  {
   "cell_type": "code",
   "execution_count": 90,
   "id": "00d9f98c-0ff0-4a48-b6b2-6d288e82dbe7",
   "metadata": {},
   "outputs": [],
   "source": [
    "# Get arrays which store the different functions\n",
    "mixed_function_sobol = list()\n",
    "mixed_function_morris = list()\n",
    "mixed_function_lhs = list()"
   ]
  },
  {
   "cell_type": "code",
   "execution_count": 101,
   "id": "c28a0996-6942-4844-ab31-11974c473254",
   "metadata": {},
   "outputs": [
    {
     "name": "stderr",
     "output_type": "stream",
     "text": [
      "  0%|          | 0/100 [00:00<?, ?it/s]"
     ]
    },
    {
     "name": "stdout",
     "output_type": "stream",
     "text": [
      "loaded problem definition\n"
     ]
    },
    {
     "name": "stderr",
     "output_type": "stream",
     "text": [
      "100%|██████████| 100/100 [00:05<00:00, 16.74it/s]\n",
      "  0%|          | 0/100 [00:00<?, ?it/s]"
     ]
    },
    {
     "name": "stdout",
     "output_type": "stream",
     "text": [
      "loaded problem definition\n"
     ]
    },
    {
     "name": "stderr",
     "output_type": "stream",
     "text": [
      "100%|██████████| 100/100 [00:05<00:00, 16.91it/s]\n"
     ]
    },
    {
     "name": "stdout",
     "output_type": "stream",
     "text": [
      "loaded problem definition\n"
     ]
    },
    {
     "name": "stderr",
     "output_type": "stream",
     "text": [
      "100%|██████████| 100/100 [00:05<00:00, 16.86it/s]\n",
      "  0%|          | 0/100 [00:00<?, ?it/s]"
     ]
    },
    {
     "name": "stdout",
     "output_type": "stream",
     "text": [
      "loaded problem definition\n"
     ]
    },
    {
     "name": "stderr",
     "output_type": "stream",
     "text": [
      "100%|██████████| 100/100 [00:05<00:00, 17.02it/s]\n"
     ]
    },
    {
     "name": "stdout",
     "output_type": "stream",
     "text": [
      "loaded problem definition\n"
     ]
    },
    {
     "name": "stderr",
     "output_type": "stream",
     "text": [
      "100%|██████████| 100/100 [00:05<00:00, 17.17it/s]\n"
     ]
    },
    {
     "name": "stdout",
     "output_type": "stream",
     "text": [
      "loaded problem definition\n"
     ]
    },
    {
     "name": "stderr",
     "output_type": "stream",
     "text": [
      "100%|██████████| 100/100 [00:05<00:00, 17.14it/s]\n"
     ]
    },
    {
     "name": "stdout",
     "output_type": "stream",
     "text": [
      "loaded problem definition\n"
     ]
    },
    {
     "name": "stderr",
     "output_type": "stream",
     "text": [
      "100%|██████████| 100/100 [00:05<00:00, 17.34it/s]\n",
      "  0%|          | 0/100 [00:00<?, ?it/s]"
     ]
    },
    {
     "name": "stdout",
     "output_type": "stream",
     "text": [
      "loaded problem definition\n"
     ]
    },
    {
     "name": "stderr",
     "output_type": "stream",
     "text": [
      "100%|██████████| 100/100 [00:05<00:00, 17.27it/s]\n",
      "  0%|          | 0/100 [00:00<?, ?it/s]"
     ]
    },
    {
     "name": "stdout",
     "output_type": "stream",
     "text": [
      "loaded problem definition\n"
     ]
    },
    {
     "name": "stderr",
     "output_type": "stream",
     "text": [
      "100%|██████████| 100/100 [00:05<00:00, 17.31it/s]\n",
      "  0%|          | 0/100 [00:00<?, ?it/s]"
     ]
    },
    {
     "name": "stdout",
     "output_type": "stream",
     "text": [
      "loaded problem definition\n"
     ]
    },
    {
     "name": "stderr",
     "output_type": "stream",
     "text": [
      "100%|██████████| 100/100 [00:05<00:00, 17.45it/s]\n",
      "  0%|          | 0/100 [00:00<?, ?it/s]"
     ]
    },
    {
     "name": "stdout",
     "output_type": "stream",
     "text": [
      "loaded problem definition\n"
     ]
    },
    {
     "name": "stderr",
     "output_type": "stream",
     "text": [
      "100%|██████████| 100/100 [00:05<00:00, 17.90it/s]\n"
     ]
    },
    {
     "name": "stdout",
     "output_type": "stream",
     "text": [
      "loaded problem definition\n"
     ]
    },
    {
     "name": "stderr",
     "output_type": "stream",
     "text": [
      "100%|██████████| 100/100 [00:05<00:00, 18.05it/s]\n"
     ]
    },
    {
     "name": "stdout",
     "output_type": "stream",
     "text": [
      "loaded problem definition\n"
     ]
    },
    {
     "name": "stderr",
     "output_type": "stream",
     "text": [
      "100%|██████████| 100/100 [00:05<00:00, 18.36it/s]\n",
      "  0%|          | 0/100 [00:00<?, ?it/s]"
     ]
    },
    {
     "name": "stdout",
     "output_type": "stream",
     "text": [
      "loaded problem definition\n"
     ]
    },
    {
     "name": "stderr",
     "output_type": "stream",
     "text": [
      "100%|██████████| 100/100 [00:05<00:00, 17.93it/s]\n",
      "  0%|          | 0/100 [00:00<?, ?it/s]"
     ]
    },
    {
     "name": "stdout",
     "output_type": "stream",
     "text": [
      "loaded problem definition\n"
     ]
    },
    {
     "name": "stderr",
     "output_type": "stream",
     "text": [
      "100%|██████████| 100/100 [00:05<00:00, 17.33it/s]\n"
     ]
    },
    {
     "name": "stdout",
     "output_type": "stream",
     "text": [
      "loaded problem definition\n"
     ]
    },
    {
     "name": "stderr",
     "output_type": "stream",
     "text": [
      "100%|██████████| 100/100 [00:05<00:00, 17.32it/s]\n"
     ]
    },
    {
     "name": "stdout",
     "output_type": "stream",
     "text": [
      "loaded problem definition\n"
     ]
    },
    {
     "name": "stderr",
     "output_type": "stream",
     "text": [
      "100%|██████████| 100/100 [00:05<00:00, 17.21it/s]\n"
     ]
    },
    {
     "name": "stdout",
     "output_type": "stream",
     "text": [
      "loaded problem definition\n"
     ]
    },
    {
     "name": "stderr",
     "output_type": "stream",
     "text": [
      "100%|██████████| 100/100 [00:05<00:00, 17.26it/s]\n",
      "  0%|          | 0/100 [00:00<?, ?it/s]"
     ]
    },
    {
     "name": "stdout",
     "output_type": "stream",
     "text": [
      "loaded problem definition\n"
     ]
    },
    {
     "name": "stderr",
     "output_type": "stream",
     "text": [
      "100%|██████████| 100/100 [00:05<00:00, 17.57it/s]\n"
     ]
    },
    {
     "name": "stdout",
     "output_type": "stream",
     "text": [
      "loaded problem definition\n"
     ]
    },
    {
     "name": "stderr",
     "output_type": "stream",
     "text": [
      "100%|██████████| 100/100 [00:05<00:00, 17.57it/s]\n"
     ]
    }
   ],
   "source": [
    "# Start a loop to evaluate the \"synthetic objective function\"\n",
    "for ii in range(num_iterations):\n",
    "\n",
    "    # Compute the synthetic sobol\n",
    "    sobol_synth = f(SEA=sea_files_array[0],intrusion=intrusion_files_array[0],lamda=lamda_array[ii])\n",
    "\n",
    "    # Get the Morris synthetic computation\n",
    "    morris_synth = f(SEA=sea_files_array[1],intrusion=intrusion_files_array[1],lamda=lamda_array[ii])\n",
    "\n",
    "    # Get the LHS synthetic computation\n",
    "    lhs_synth = f(SEA=sea_files_array[2],intrusion=intrusion_files_array[2],lamda=lamda_array[ii])\n",
    "    \n",
    "    # Go to the data folder and delete all the files\n",
    "    for directory, dirnams , filnams in os.walk(data_dir):\n",
    "        for nam in filnams:\n",
    "            if nam.endswith('y_sobol.csv') or  nam.endswith('y_morris.csv') or nam.endswith('y_lhs.csv'):\n",
    "                os.remove(os.path.join(data_dir,nam))\n",
    "\n",
    "    # Save the files in the data directory\n",
    "    np.savetxt(fname=os.path.join(data_dir,'y_sobol.csv'),X=sobol_synth)\n",
    "    np.savetxt(fname=os.path.join(data_dir,'y_morris.csv'),X=morris_synth)\n",
    "    np.savetxt(fname=os.path.join(data_dir,'y_lhs.csv'),X=lhs_synth)\n",
    "\n",
    "    # Save a file with the lamda used\n",
    "    np.savetxt(fname=os.path.join(data_dir,'lamda.csv'),X=np.array([lamda_array[ii]]))\n",
    "\n",
    "    # Run the GSA Report\n",
    "    os.system(\"\"\"docker run --rm -v \"$(pwd)\"/output:/output -v \"$(pwd)\"/data:/data     ghcr.io/nikivanstein/gsareport:main -p /data/problem.json -d /data -o /output\"\"\"\n",
    ")\n",
    "\n",
    "    # Copy the data file into a new directory\n",
    "    new_dir:str = os.path.join(os.getcwd(),f\"data_{str(ii+1)}\")\n",
    "    if os.path.exists(new_dir):\n",
    "        shutil.rmtree(new_dir,ignore_errors=True)\n",
    "\n",
    "    shutil.copytree(data_dir,new_dir)\n",
    "\n",
    "    # Copy the data file into a new directory\n",
    "    new_dir:str = os.path.join(os.getcwd(),f\"output_{str(ii+1)}\")\n",
    "    if os.path.exists(new_dir):\n",
    "        shutil.rmtree(new_dir,ignore_errors=True)\n",
    "\n",
    "    shutil.copytree(output_dir,new_dir)\n",
    "\n",
    "    # Delete all the files in the output directory\n",
    "\n",
    "    # Go to the data folder and delete all the files\n",
    "    for directory, dirnams, filnams in os.walk(output_dir):\n",
    "        for nam in filnams:\n",
    "            if nam.endswith(\".html\"):\n",
    "                os.remove(os.path.join(output_dir,nam))\n",
    "        \n",
    "    "
   ]
  }
 ],
 "metadata": {
  "kernelspec": {
   "display_name": "GSAreport",
   "language": "python",
   "name": "python3"
  },
  "language_info": {
   "codemirror_mode": {
    "name": "ipython",
    "version": 3
   },
   "file_extension": ".py",
   "mimetype": "text/x-python",
   "name": "python",
   "nbconvert_exporter": "python",
   "pygments_lexer": "ipython3",
   "version": "3.9.18"
  }
 },
 "nbformat": 4,
 "nbformat_minor": 5
}
