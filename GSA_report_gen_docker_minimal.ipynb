{
 "cells": [
  {
   "cell_type": "code",
   "execution_count": 27,
   "id": "d40cb21d-5556-46e5-bd07-ae7d1a5e3f82",
   "metadata": {},
   "outputs": [],
   "source": [
    "# Import the libraries\n",
    "import os\n",
    "import numpy as np\n",
    "import csv\n",
    "import pandas as pd\n",
    "import multiprocessing as mp\n",
    "import shutil\n",
    "import docker\n",
    "\n",
    "#docker_client = docker.from_env()"
   ]
  },
  {
   "cell_type": "code",
   "execution_count": 28,
   "id": "912041d5-79fe-4a3d-92ac-b61ae5e39794",
   "metadata": {},
   "outputs": [],
   "source": [
    "# List with all the filenames to search\n",
    "FILNAMES = [\n",
    "    \"x_sobol.csv\",\n",
    "    \"x_morris.csv\",\n",
    "    \"x_lhs.csv\",\n",
    "    \"y_sobol.csv\",\n",
    "    \"y_morris.csv\",\n",
    "    \"y_lhs.csv\"\n",
    "]"
   ]
  },
  {
   "cell_type": "code",
   "execution_count": 29,
   "id": "b948bba2-3774-44cd-a7e1-4a988c378016",
   "metadata": {},
   "outputs": [],
   "source": [
    "# Set the reference intrusion\n",
    "DELTA_STAR = 120*0.70"
   ]
  },
  {
   "cell_type": "code",
   "execution_count": 30,
   "id": "66f6cc95",
   "metadata": {},
   "outputs": [],
   "source": [
    "# SET A TOTAL BUDGET\n",
    "TOTAL_BUDGET:int = 200"
   ]
  },
  {
   "cell_type": "markdown",
   "id": "eedbc695-bc76-413c-acc1-bcbc66c7fb5f",
   "metadata": {},
   "source": [
    "#### Definition of the Objective Function\n",
    "$$f(\\mathbf{x} ) = \\text{SEA} (\\mathbf{x}) - \\lambda | \\delta(\\mathbf{x}) - \\delta^{\\star}  |$$"
   ]
  },
  {
   "cell_type": "code",
   "execution_count": 31,
   "id": "0fe149bc-94e7-4086-aa34-03e28e84ce96",
   "metadata": {},
   "outputs": [],
   "source": [
    "# Definition of the objective function\n",
    "#f = lambda SEA,intrusion,lamda: SEA - np.multiply(lamda,np.abs(intrusion-DELTA_STAR))\n",
    "\n",
    "f = lambda SEA,intrusion,lamda: SEA - np.multiply(lamda,np.maximum(intrusion-DELTA_STAR,0))"
   ]
  },
  {
   "cell_type": "code",
   "execution_count": 32,
   "id": "949d93f2-9fec-431f-be8c-77a26e879725",
   "metadata": {},
   "outputs": [
    {
     "name": "stdout",
     "output_type": "stream",
     "text": [
      "/home/ivanolar/Documents\n"
     ]
    }
   ],
   "source": [
    "# Get the root directories to the SEA and Intrusion Datasets\n",
    "print(os.getcwd())\n",
    "\n",
    "# Change the working directory\n",
    "os.chdir('/home/ivanolar/Documents')\n",
    "\n",
    "parent_dir = os.path.dirname(os.getcwd())\n",
    "\n"
   ]
  },
  {
   "cell_type": "code",
   "execution_count": 33,
   "id": "01c595d8-54ed-49ea-b15f-7accd1bfc6a1",
   "metadata": {},
   "outputs": [
    {
     "name": "stdout",
     "output_type": "stream",
     "text": [
      "/home/ivanolar/Documents/data-Intrusion True\n",
      "/home/ivanolar/Documents/data-SEA True\n",
      "/home/ivanolar/Documents/data True\n",
      "/home/ivanolar/Documents/output True\n"
     ]
    }
   ],
   "source": [
    "# Set the intrusion and SEA storing directories\n",
    "intrusion_dir = os.path.join(os.getcwd(),\"data-Intrusion\")\n",
    "sea_dir = os.path.join(os.getcwd(),\"data-SEA\")\n",
    "\n",
    "data_dir =  os.path.join(os.getcwd(),\"data\")\n",
    "output_dir = os.path.join(os.getcwd(),\"output\")\n",
    "\n",
    "# Print all the paths to ensure are well written\n",
    "print(intrusion_dir,os.path.exists(intrusion_dir))\n",
    "print(sea_dir,os.path.exists(sea_dir))\n",
    "print(data_dir,os.path.exists(data_dir))\n",
    "print(output_dir,os.path.exists(output_dir))\n"
   ]
  },
  {
   "cell_type": "code",
   "execution_count": 34,
   "id": "84dbfa7c-df12-4f36-b7b6-727a8d85e81d",
   "metadata": {},
   "outputs": [],
   "source": [
    "# Generate an array of Numpy arrays to read\n",
    "input_data_files = []\n",
    "for ii in range(0,3):\n",
    "    curfil_1 = os.path.join(intrusion_dir ,FILNAMES[ii])\n",
    "    input_data_files.append(np.loadtxt(curfil_1))\n",
    "    \n",
    "    \n",
    "    "
   ]
  },
  {
   "cell_type": "code",
   "execution_count": 35,
   "id": "985fd65a",
   "metadata": {},
   "outputs": [],
   "source": [
    "# Generate an array of Numpy arrays to read\n",
    "intrusion_files_array = list()\n",
    "sea_files_array = list()\n",
    "for ii in range(3,6):\n",
    "    curfil_1 = os.path.join(intrusion_dir ,FILNAMES[ii])\n",
    "    curfil_2 = os.path.join(sea_dir ,FILNAMES[ii])\n",
    "    intrusion_files_array.append(np.loadtxt(curfil_1))\n",
    "    sea_files_array.append(np.loadtxt(curfil_2))\n",
    "    \n",
    "    "
   ]
  },
  {
   "cell_type": "code",
   "execution_count": 36,
   "id": "a66c9c3b-50f8-4c87-83a7-113461bb5a53",
   "metadata": {},
   "outputs": [],
   "source": [
    "# Generate and array to check how the lamda parameter \"affects the landscape\"\n",
    "num_iterations:int = 1\n",
    "lamda_array = [763]\n",
    "#num_iterations = 4\n",
    "#lamda_array = np.array([450,465,480,472.5])"
   ]
  },
  {
   "cell_type": "code",
   "execution_count": 37,
   "id": "04eac89d-7b2d-4f9e-b6ab-b3ff78e27946",
   "metadata": {},
   "outputs": [
    {
     "name": "stdout",
     "output_type": "stream",
     "text": [
      "[763]\n"
     ]
    }
   ],
   "source": [
    "print(lamda_array)"
   ]
  },
  {
   "cell_type": "code",
   "execution_count": 38,
   "id": "00d9f98c-0ff0-4a48-b6b2-6d288e82dbe7",
   "metadata": {},
   "outputs": [],
   "source": [
    "# Get arrays which store the different functions\n",
    "mixed_function_sobol = list()\n",
    "mixed_function_morris = list()\n",
    "mixed_function_lhs = list()"
   ]
  },
  {
   "cell_type": "code",
   "execution_count": 39,
   "id": "c28a0996-6942-4844-ab31-11974c473254",
   "metadata": {},
   "outputs": [
    {
     "name": "stdout",
     "output_type": "stream",
     "text": [
      "[ 353  549  941  817  529 1042  412  586 1441  469 1256  224 1352 1519\n",
      " 1268  486  745 1554  986 1168  845  425 1393 1298  889  686  205  294\n",
      "  924  934  741 1105  847  416  597  459  848 1401  723  201  385 1178\n",
      "  910  488 1387   11  738  891  132 1359  377 1297 1459  961  551  434\n",
      " 1112  907  138 1582 1507  223  736  712  520   32 1403  453 1020  528\n",
      " 1569  181  386  756 1333  594   88  513  525  902  383 1431   15   87\n",
      "  476 1418  943  204 1088 1474  911   18 1589  209 1587  199  273 1119\n",
      "  207  543 1526  242 1517 1015   27  213 1176   82 1011 1310 1390  533\n",
      " 1397   71  602  932  114 1120  558  399 1230   14  118  154 1351 1428\n",
      "  524 1155  689   26  415  398 1529 1496  944  276   35  480  633 1448\n",
      " 1544 1116  539  668 1100 1340  493 1164  837 1438 1511  269  509 1385\n",
      " 1490  447   96  966 1103  327  392 1377  450  983  920  516  839  304\n",
      "  455  485  102   83 1139 1395 1068]\n",
      "loaded problem definition\n"
     ]
    },
    {
     "name": "stderr",
     "output_type": "stream",
     "text": [
      "100%|██████████| 100/100 [00:02<00:00, 42.36it/s]\n"
     ]
    }
   ],
   "source": [
    "# Start a loop to evaluate the \"synthetic objective function\"\n",
    "for ii in range(num_iterations):\n",
    "    \n",
    "    # Compute the synthetic sobol\n",
    "    sobol_synth = f(SEA=sea_files_array[0],intrusion=intrusion_files_array[0],lamda=lamda_array[ii])\n",
    "    \n",
    "    # Get the Morris synthetic computation\n",
    "    morris_synth = f(SEA=sea_files_array[1],intrusion=intrusion_files_array[1],lamda=lamda_array[ii])\n",
    "\n",
    "    # Get the LHS synthetic computation\n",
    "    lhs_synth = f(SEA=sea_files_array[2],intrusion=intrusion_files_array[2],lamda=lamda_array[ii])\n",
    "\n",
    "    # Get the x data from Sobol, Morris and LHS Sampling\n",
    "    x_sobol = input_data_files[0]\n",
    "    x_morris = input_data_files[1]\n",
    "    x_lhs = input_data_files[2]\n",
    "\n",
    "    # Get the extremal values of x (from Morris)\n",
    "    idxs_1 =((x_morris == 5) | (x_morris == -5)).all(axis=1)\n",
    "\n",
    "    x_morris_fixed = x_morris[idxs_1]\n",
    "    y_morris_fixed = morris_synth[idxs_1]\n",
    "\n",
    "    x_database:np.ndarray = np.vstack((x_sobol,x_lhs))\n",
    "    y_database:np.ndarray = np.hstack((sobol_synth,lhs_synth))\n",
    "\n",
    "    y_morris_fixed_intrusion:np.ndarray = intrusion_files_array[1][idxs_1]\n",
    "    y_morris_fixed_sea:np.ndarray = sea_files_array[1][idxs_1]\n",
    "\n",
    "    y_database_instrusion:np.ndarray = np.hstack((intrusion_files_array[0],intrusion_files_array[2]))\n",
    "    y_database_sea:np.ndarray = np.hstack((sea_files_array[0],sea_files_array[2]))\n",
    "\n",
    "    # Get the indices to get the samples\n",
    "    indices_ = np.random.choice(y_database.size, size=TOTAL_BUDGET-y_morris_fixed.size\n",
    "                                , replace=False)\n",
    "    \n",
    "    x_exp:np.ndarray = np.vstack((x_morris_fixed,x_database[indices_,:]))\n",
    "    y_exp:np.ndarray = np.hstack((y_morris_fixed,y_database[indices_]))\n",
    "\n",
    "    y_exp_intrusion:np.ndarray = np.hstack((y_morris_fixed_intrusion,y_database_instrusion[indices_]))\n",
    "    y_exp_sea:np.ndarray = np.hstack((y_morris_fixed_sea,y_database_sea[indices_]))\n",
    "    \n",
    "    print(indices_)\n",
    "    # Go to the data folder and delete all the files\n",
    "    for directory, dirnams , filnams in os.walk(data_dir):\n",
    "        for nam in filnams:\n",
    "            if (nam.endswith('.csv')):\n",
    "                # nam.endswith('y_sobol.csv') or  \n",
    "                # nam.endswith('y_morris.csv') or \n",
    "                # nam.endswith('y_lhs.csv') or \n",
    "                # nam.endswith('y.csv') or\n",
    "                # nam.endswith('x_sobol.csv') or  \n",
    "                # nam.endswith('x_morris.csv') or \n",
    "                # nam.endswith('x_lhs.csv') or \n",
    "                # nam.endswith('x.csv')):\n",
    "                os.remove(os.path.join(data_dir,nam))\n",
    "\n",
    "    # Save the files in the data directory\n",
    "    #np.savetxt(fname=os.path.join(data_dir,'y_sobol.csv'),X=sobol_synth)\n",
    "    #np.savetxt(fname=os.path.join(data_dir,'y_morris.csv'),X=morris_synth)\n",
    "    #np.savetxt(fname=os.path.join(data_dir,'y_lhs.csv'),X=lhs_synth)\n",
    "\n",
    "    # Save the X data\n",
    "    #np.savetxt(fname=os.path.join(data_dir,'x_sobol.csv'),X=x_sobol)\n",
    "    #np.savetxt(fname=os.path.join(data_dir,'x_morris.csv'),X=x_morris)\n",
    "    #np.savetxt(fname=os.path.join(data_dir,'x_lhs.csv'),X=x_lhs)\n",
    "\n",
    "    # Save the x data\n",
    "    np.savetxt(fname=os.path.join(data_dir,'x.csv'),X=x_exp)\n",
    "    np.savetxt(fname=os.path.join(data_dir,'y.csv'),X=y_exp)\n",
    "    # Save a file with the lamda used\n",
    "    np.savetxt(fname=os.path.join(data_dir,'lamda.csv'),X=np.array([lamda_array[ii]]))\n",
    "\n",
    "    # Save the subsampled intrusion and sea\n",
    "    np.savetxt(fname=os.path.join(data_dir,'sea_y.csv'),X=y_exp_sea)\n",
    "    np.savetxt(fname=os.path.join(data_dir,'intrusion_y.csv'),X=y_exp_intrusion)\n",
    "\n",
    "    # Run the GSA Report\n",
    "    os.system(\"\"\"docker run --rm -v \"$(pwd)\"/output:/output -v \"$(pwd)\"/data:/data     ghcr.io/nikivanstein/gsareport:main -p /data/problem.json -d /data -o /output\"\"\")\n",
    "\n",
    "    # Copy the data file into a new directory\n",
    "    new_dir:str = os.path.join(os.getcwd(),f\"data_{str(ii+1)}_mod\")\n",
    "    if os.path.exists(new_dir):\n",
    "        shutil.rmtree(new_dir,ignore_errors=True)\n",
    "\n",
    "    shutil.copytree(data_dir,new_dir)\n",
    "\n",
    "    # Copy the data file into a new directory\n",
    "    new_dir:str = os.path.join(os.getcwd(),f\"output_{str(ii+1)}_mod\")\n",
    "    if os.path.exists(new_dir):\n",
    "        shutil.rmtree(new_dir,ignore_errors=True)\n",
    "\n",
    "    shutil.copytree(output_dir,new_dir)\n",
    "\n",
    "    # Delete all the files in the output directory\n",
    "\n",
    "    # Go to the data folder and delete all the files\n",
    "    for directory, dirnams, filnams in os.walk(output_dir):\n",
    "        for nam in filnams:\n",
    "            if nam.endswith(\".html\"):\n",
    "                os.remove(os.path.join(output_dir,nam))\n",
    "        \n",
    "    "
   ]
  },
  {
   "cell_type": "code",
   "execution_count": null,
   "id": "b49edb53",
   "metadata": {},
   "outputs": [],
   "source": []
  }
 ],
 "metadata": {
  "kernelspec": {
   "display_name": "simpleOpt",
   "language": "python",
   "name": "python3"
  },
  "language_info": {
   "codemirror_mode": {
    "name": "ipython",
    "version": 3
   },
   "file_extension": ".py",
   "mimetype": "text/x-python",
   "name": "python",
   "nbconvert_exporter": "python",
   "pygments_lexer": "ipython3",
   "version": "3.8.18"
  }
 },
 "nbformat": 4,
 "nbformat_minor": 5
}
